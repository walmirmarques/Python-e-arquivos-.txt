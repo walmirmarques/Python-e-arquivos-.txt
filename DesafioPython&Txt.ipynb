{
 "cells": [
  {
   "cell_type": "markdown",
   "metadata": {},
   "source": [
    "### Desafio onde vamos aprender:\n",
    "\n",
    "- Na Hashtag, sempre analisamos o nosso \"Funil de Vendas\". Para isso, rastreamos de onde veio os alunos por meio de um código, do tipo:\n",
    "    - hashtag_site_org -> Pessoas que vieram pelo site da Hashtag\n",
    "    - hashtag_yt_org -> Pessoas que vieram pelo Youtube da Hashtag\n",
    "    - hashtag_ig_org -> Pessoas que vieram pelo Instagram da Hashtag\n",
    "    - hashtag_igfb_org -> Pessoas que vieram pelo Instagram ou Facebook da Hashtag\n",
    "\n",
    "Os códigos diferentes disso, são códigos de anúncio da Hashtag.\n",
    "\n",
    "- Queremos analisar quantos alunos vieram de anúncio e quantos vieram \"orgânico\".\n",
    "- Qual a melhor fonte \"orgânica\" de alunos\n",
    "\n",
    "Obs: orgânico é tudo aquilo que não veio de anúncios.\n",
    "\n",
    "No nosso sistema, conseguimos exportar um txt com as informações dos alunos, conforme o arquivo Alunos.txt<br>\n",
    "(Os dados foram gerados aleatoriamente para simular uma situação real, já que não podemos fornecer os dados reais dos alunos por questões de segurança)\n",
    "\n",
    "- No final, para treinar, vamos escrever todas essas respostas em um novo arquivo txt\n"
   ]
  },
  {
   "cell_type": "code",
   "execution_count": 21,
   "metadata": {},
   "outputs": [],
   "source": [
    "# Abrindo o arquivo \n",
    "arquivo = open('Alunos.txt', 'r')\n",
    "# Criando uma lista com as linhas do arquivo\n",
    "linhas = arquivo.readlines()\n",
    "# Deletando as 3 primeiras linhas que não serão utéis na análise\n",
    "del linhas[:4]\n",
    "\n",
    "#Criando os indicadores\n",
    "qtde_anuncio = 0\n",
    "qtde_org = 0\n",
    "qtde_yt_org = 0\n",
    "qtde_igfg_org = 0\n",
    "qtde_site_org = 0"
   ]
  },
  {
   "cell_type": "code",
   "execution_count": 22,
   "metadata": {},
   "outputs": [],
   "source": [
    "# Percorrendo a lista e fazendo um unpacking das informaçoes. (Separando em duas variáveis)\n",
    "for linha in linhas:\n",
    "    email, origem = linha.split(',')\n",
    "    #Verificando se é organico ou de anúncio\n",
    "    if '_org' in origem:\n",
    "        qtde_org += 1\n",
    "        # Verificando a origem orgânica\n",
    "        if '_site_org' in origem:\n",
    "            qtde_site_org += 1\n",
    "        if '_yt_org' in origem:\n",
    "            qtde_yt_org += 1\n",
    "        if '_ig_org' in origem or '_igfb_org' in origem:\n",
    "            qtde_igfg_org += 1\n",
    "    else:\n",
    "        qtde_anuncio += 1"
   ]
  },
  {
   "cell_type": "code",
   "execution_count": null,
   "metadata": {},
   "outputs": [],
   "source": [
    "# Exibindo os resultados\n",
    "\n",
    "print(f'A quantidade de orgânicos é: {qtde_org}')\n",
    "print(f'A quantidade de anúncio é: {qtde_anuncio}')\n",
    "print(f'A quantidade do site é: {qtde_site_org}')\n",
    "print(f'A quantidade do youtube é: {qtde_yt_org}')\n",
    "print(f'A quantidade do instagram ou facebook é: {qtde_igfg_org}')"
   ]
  },
  {
   "cell_type": "code",
   "execution_count": 24,
   "metadata": {},
   "outputs": [],
   "source": [
    "# Fechando o arquivo\n",
    "arquivo.close()"
   ]
  },
  {
   "cell_type": "code",
   "execution_count": 26,
   "metadata": {},
   "outputs": [],
   "source": [
    "### Criando um novo arquivo e salvando as informações no mesmo\n",
    "with open('Resultado.txt', 'w') as resultado:\n",
    "    resultado.write(f'A quantidade de orgânicos é: {qtde_org}\\n')\n",
    "    resultado.write(f'A quantidade de anúncio é: {qtde_anuncio}\\n')\n",
    "    resultado.write(f'A quantidade do site é: {qtde_site_org}\\n')\n",
    "    resultado.write(f'A quantidade do youtube é: {qtde_yt_org}\\n')\n",
    "    resultado.write(f'A quantidade do instagram ou facebook é: {qtde_igfg_org}')"
   ]
  }
 ],
 "metadata": {
  "interpreter": {
   "hash": "2be5faf79681da6f2a61fdfdd5405d65d042280f7fba6178067603e3a2925119"
  },
  "kernelspec": {
   "display_name": "Python 3.10.2 64-bit",
   "language": "python",
   "name": "python3"
  },
  "language_info": {
   "codemirror_mode": {
    "name": "ipython",
    "version": 3
   },
   "file_extension": ".py",
   "mimetype": "text/x-python",
   "name": "python",
   "nbconvert_exporter": "python",
   "pygments_lexer": "ipython3",
   "version": "3.10.2"
  },
  "orig_nbformat": 4
 },
 "nbformat": 4,
 "nbformat_minor": 2
}
